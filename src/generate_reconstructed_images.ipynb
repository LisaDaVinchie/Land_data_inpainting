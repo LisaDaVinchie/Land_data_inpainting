{
 "cells": [
  {
   "cell_type": "code",
   "execution_count": null,
   "metadata": {},
   "outputs": [],
   "source": [
    "import torch as th\n",
    "import matplotlib.pyplot as plt\n",
    "import numpy as np\n",
    "from pathlib import Path\n",
    "\n",
    "from models import DINCAE_pconvs\n",
    "from preprocessing.dataset_normalization_v2 import MinMaxNormalization"
   ]
  },
  {
   "cell_type": "code",
   "execution_count": null,
   "metadata": {},
   "outputs": [],
   "source": [
    "result_idx = 95\n",
    "dataset_idx = 1\n",
    "\n",
    "data_path = Path(\"../data/\")\n",
    "dataset_path = data_path / Path(f\"minimal_datasets/dataset_{dataset_idx}.pt\")\n",
    "weights_path = data_path / Path(f\"weights/weights_{result_idx}.pt\")\n",
    "# weights_path = data_path / Path(f\"weights_to_sync/weights_{result_idx}.pt\")\n",
    "nans_masks_path = data_path / Path(f\"nans_masks/nans_mask_{dataset_idx}.pt\")\n",
    "minmax_path = data_path / Path(f\"minmax_vals/minmax_{dataset_idx}.pt\")\n",
    "\n",
    "for path in [dataset_path, weights_path, nans_masks_path, minmax_path]:\n",
    "    if not path.exists():\n",
    "        raise FileNotFoundError(f\"Path {path} does not exist.\")\n",
    "\n",
    "dataset = th.load(dataset_path)\n",
    "weights = th.load(weights_path)\n",
    "nans_masks = th.load(nans_masks_path)\n",
    "minmax = th.load(minmax_path)"
   ]
  },
  {
   "cell_type": "code",
   "execution_count": null,
   "metadata": {},
   "outputs": [],
   "source": [
    "# Retieve dataset specs\n",
    "n_channels = dataset[\"images\"].shape[1]\n",
    "nrows = 128\n",
    "ncols = 128\n",
    "n_images = 200\n",
    "masked_channels = [0, 1]"
   ]
  },
  {
   "cell_type": "code",
   "execution_count": null,
   "metadata": {},
   "outputs": [],
   "source": [
    "model = DINCAE_pconvs(params_path=Path(\"params.json\"))\n",
    "\n",
    "model.load_state_dict(weights)"
   ]
  },
  {
   "cell_type": "code",
   "execution_count": null,
   "metadata": {},
   "outputs": [],
   "source": [
    "# Get random image\n",
    "random_index = np.random.choice(n_images, 1, replace=False)\n",
    "channel = np.random.choice(masked_channels, 1, replace=False)\n",
    "\n",
    "# random_index = [14]\n",
    "# channel = 0\n",
    "\n",
    "print(f\"Random index: {random_index}\")\n",
    "print(f\"Random channel: {channel}\")\n",
    "\n",
    "image = dataset[\"images\"][random_index]\n",
    "mask = dataset[\"masks\"][random_index]\n",
    "nans_mask = nans_masks[random_index]\n",
    "\n",
    "if model.__class__.__name__ == \"DINCAE_pconvs\":\n",
    "    output, _ = model(image, mask.float())\n",
    "else:\n",
    "    output = model(th.where(~mask, image, -1))\n",
    "\n",
    "raw_output = output.clone()\n",
    "\n",
    "image = th.where(~nans_mask, th.nan, image)\n",
    "\n",
    "output = th.where(~mask, output, image) # Where mask is 0, use the output, else use the original image\n",
    "output = th.where(~nans_mask, th.nan, output)\n",
    "np_output = output[0, channel, :, :].detach().squeeze(0).numpy()\n",
    "np_image = image[0, channel, :, :].detach().squeeze(0).numpy()\n",
    "raw_output_np = raw_output[0, channel, :, :].detach().squeeze(0).numpy()\n",
    "\n",
    "mask = mask.detach().squeeze().numpy()\n",
    "nans_mask = nans_mask.detach().squeeze().numpy()\n",
    "\n",
    "# Determine global vmin and vmax to ensure same colormap scaling\n",
    "vmin = np.nanmin([np_output, np_image])\n",
    "vmax = np.nanmax([np_output, np_image])\n",
    "\n",
    "fig, axs = plt.subplots(1, 3, figsize=(15, 5))\n",
    "\n",
    "im0 = axs[0].imshow(np_output, vmin=vmin, vmax=vmax)\n",
    "axs[0].set_title(\"Reconstructed image\")\n",
    "\n",
    "\n",
    "im1 = axs[1].imshow(np_image, vmin=vmin, vmax=vmax)\n",
    "axs[1].set_title(\"Original image\")\n",
    "\n",
    "im2 = axs[2].imshow(raw_output_np, vmin=vmin, vmax=vmax)\n",
    "axs[2].set_title(\"Raw output\")\n",
    "\n",
    "# Shared colorbar using one of the images\n",
    "fig.colorbar(im1, ax=axs, orientation='vertical')\n",
    "\n",
    "plt.show()"
   ]
  },
  {
   "cell_type": "code",
   "execution_count": null,
   "metadata": {},
   "outputs": [],
   "source": [
    "norm_class = MinMaxNormalization()\n",
    "denormalized_raw_output = norm_class.denormalize(raw_output, minmax).detach().numpy()\n",
    "denormalized_image = norm_class.denormalize(image, minmax).detach().numpy()\n",
    "denormalized_output = norm_class.denormalize(output, minmax).detach().numpy()\n"
   ]
  },
  {
   "cell_type": "code",
   "execution_count": null,
   "metadata": {},
   "outputs": [],
   "source": [
    "fig, axs = plt.subplots(1, 3, figsize=(15, 5))\n",
    "channel = 0\n",
    "\n",
    "vmin = np.nanmin([denormalized_output[0, channel, :, :], denormalized_image[0, channel, :, :]])\n",
    "vmax = np.nanmax([denormalized_output[0, channel, :, :], denormalized_image[0, channel, :, :]])\n",
    "print(f\"Reconstructed image min: {vmin}, max: {vmax}\")\n",
    "im0 = axs[0].imshow(denormalized_output[0, channel, :, :], vmin=vmin, vmax=vmax)\n",
    "axs[0].set_title(\"Reconstructed image\")\n",
    "im1 = axs[1].imshow(denormalized_image[0, channel, :, :], vmin=vmin, vmax=vmax)\n",
    "axs[1].set_title(\"Original image\")\n",
    "im2 = axs[2].imshow(denormalized_raw_output[0, channel, :, :], vmin=vmin, vmax=vmax)\n",
    "axs[2].set_title(\"Raw output\")\n",
    "\n",
    "fig.colorbar(im1, ax=axs, orientation='vertical')\n",
    "plt.show()\n"
   ]
  }
 ],
 "metadata": {
  "kernelspec": {
   "display_name": "venv_inpainting",
   "language": "python",
   "name": "python3"
  },
  "language_info": {
   "codemirror_mode": {
    "name": "ipython",
    "version": 3
   },
   "file_extension": ".py",
   "mimetype": "text/x-python",
   "name": "python",
   "nbconvert_exporter": "python",
   "pygments_lexer": "ipython3",
   "version": "3.11.8"
  }
 },
 "nbformat": 4,
 "nbformat_minor": 2
}
